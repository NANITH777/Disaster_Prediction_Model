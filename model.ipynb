{
 "cells": [
  {
   "cell_type": "code",
   "execution_count": 1,
   "metadata": {},
   "outputs": [
    {
     "data": {
      "text/plain": [
       "Index(['Name', 'UserName', 'Timestamp', 'Verified', 'Tweets', 'Comments',\n",
       "       'Retweets', 'Likes', 'Impressions', 'Tags', 'Tweet Link', 'Tweet ID',\n",
       "       'Disaster'],\n",
       "      dtype='object')"
      ]
     },
     "execution_count": 1,
     "metadata": {},
     "output_type": "execute_result"
    }
   ],
   "source": [
    "import pandas as pd\n",
    "data = pd.read_csv(\"Disaster.csv\")\n",
    "data.columns"
   ]
  },
  {
   "cell_type": "code",
   "execution_count": 2,
   "metadata": {},
   "outputs": [],
   "source": [
    "texts = data['Tweets'].tolist()\n",
    "labels = data['Disaster'].tolist()"
   ]
  },
  {
   "cell_type": "code",
   "execution_count": 3,
   "metadata": {},
   "outputs": [
    {
     "data": {
      "text/plain": [
       "Disaster\n",
       "Drought       770\n",
       "Wildfire      540\n",
       "Earthquake    500\n",
       "Floods        436\n",
       "Hurricanes    178\n",
       "Tornadoes     135\n",
       "Name: count, dtype: int64"
      ]
     },
     "execution_count": 3,
     "metadata": {},
     "output_type": "execute_result"
    }
   ],
   "source": [
    "data.Disaster.value_counts()"
   ]
  },
  {
   "cell_type": "code",
   "execution_count": 4,
   "metadata": {},
   "outputs": [],
   "source": [
    "# Create a mapping dictionary for disaster types\n",
    "disaster_mapping = {\n",
    "    'Drought': 0,\n",
    "    'Wildfire': 1,\n",
    "    'Earthquake': 2,\n",
    "    'Floods': 3,\n",
    "    'Hurricanes': 4,\n",
    "    'Tornadoes': 5\n",
    "}\n",
    "\n",
    "# Apply the mapping to the Disaster column\n",
    "data['Disaster'] = data['Disaster'].map(disaster_mapping)"
   ]
  }
 ],
 "metadata": {
  "kernelspec": {
   "display_name": "base",
   "language": "python",
   "name": "python3"
  },
  "language_info": {
   "codemirror_mode": {
    "name": "ipython",
    "version": 3
   },
   "file_extension": ".py",
   "mimetype": "text/x-python",
   "name": "python",
   "nbconvert_exporter": "python",
   "pygments_lexer": "ipython3",
   "version": "3.11.5"
  }
 },
 "nbformat": 4,
 "nbformat_minor": 2
}
